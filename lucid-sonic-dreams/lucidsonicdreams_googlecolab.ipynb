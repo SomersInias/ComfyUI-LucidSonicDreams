{
  "nbformat": 4,
  "nbformat_minor": 0,
  "metadata": {
    "colab": {
      "provenance": [],
      "gpuType": "T4"
    },
    "kernelspec": {
      "name": "python3",
      "display_name": "Python 3"
    },
    "language_info": {
      "name": "python"
    },
    "accelerator": "GPU"
  },
  "cells": [
    {
      "cell_type": "markdown",
      "source": [
        "#Setup conda environment and installing everything\n",
        "\n"
      ],
      "metadata": {
        "id": "T8MRnZZCHvB_"
      }
    },
    {
      "cell_type": "code",
      "source": [
        "# Step 1: Setup Environment\n",
        "%env PYTHONPATH = # /env/python\n",
        "\n",
        "!wget https://repo.anaconda.com/miniconda/Miniconda3-py38_4.12.0-Linux-x86_64.sh\n",
        "!chmod +x Miniconda3-py38_4.12.0-Linux-x86_64.sh\n",
        "!./Miniconda3-py38_4.12.0-Linux-x86_64.sh -b -f -p /usr/local\n",
        "!conda update conda -y\n",
        "\n",
        "import sys\n",
        "sys.path.append('/usr/local/lib/python3.8/site-packages')\n",
        "\n",
        "!conda create --name lsd-env python=3.7 -y"
      ],
      "metadata": {
        "id": "EZueak2xHrcu"
      },
      "execution_count": null,
      "outputs": []
    },
    {
      "cell_type": "code",
      "source": [
        "# Step 2: Install dependencies/packages in the Conda environment and cloning lucid-sonic-dreams\n",
        "%%shell\n",
        "eval \"$(conda shell.bash hook)\"\n",
        "conda activate lsd-env\n",
        "pip install tensorflow==1.15\n",
        "git clone https://github.com/nerdyrodent/lucid-sonic-dreams.git\n",
        "cd lucid-sonic-dreams\n",
        "python setup.py install\n",
        "pip install tqdm\n",
        "pip install scipy\n",
        "pip install Pillow\n",
        "pip install scikit-image\n",
        "pip install librosa==0.8.0\n",
        "pip install moviepy\n",
        "pip install pygit2\n",
        "pip install pandas\n",
        "pip install gdown\n",
        "pip install mega.py\n",
        "pip install click\n",
        "pip install psutil\n",
        "pip uninstall torch torchvision -y\n",
        "pip install torch==1.9.0+cu111 torchvision==0.10.0+cu111 -f https://download.pytorch.org/whl/torch_stable.html\n",
        "pip install timm==0.4.12 ftfy==6.1.1 ninja==1.10.2 opensimplex"
      ],
      "metadata": {
        "id": "bI30-SGfIROi"
      },
      "execution_count": null,
      "outputs": []
    },
    {
      "cell_type": "markdown",
      "source": [
        "#Running lucid-sonic-dreams script for generating video\n"
      ],
      "metadata": {
        "id": "tpiiABg1J8ad"
      }
    },
    {
      "cell_type": "markdown",
      "source": [
        "Connect to your google drive were your stylegan models are stored or even your music that you will be using to generate the videos"
      ],
      "metadata": {
        "id": "5CK6j3cQLIDv"
      }
    },
    {
      "cell_type": "code",
      "source": [
        "#connect to google drive\n",
        "from google.colab import drive\n",
        "drive.mount('/content/drive')"
      ],
      "metadata": {
        "id": "1Qvm6pFlKHFw"
      },
      "execution_count": null,
      "outputs": []
    },
    {
      "cell_type": "markdown",
      "source": [
        "\n",
        "<--- Important paste the run-lucidsonicdreams.py inside of the lucid-sonic-dreams folder inside of this google colab and change the path variabtle inside of the script to your stored models and music file"
      ],
      "metadata": {
        "id": "NrYzbDcLKPNN"
      }
    },
    {
      "cell_type": "markdown",
      "source": [
        "Running my lucid-sonic-dreams script for generating video (NOTE this is basic script for running it and there are more parameters and options that can be controlled, you don't need to use my script you can also use sg2-ada-pt-song-spleeter.py or sg2-ada-pt-song-spleeter.py that are already in the cloned lucid-sonic-dreams)"
      ],
      "metadata": {
        "id": "x8THJoQAJ8ae"
      }
    },
    {
      "cell_type": "code",
      "source": [
        "%%shell\n",
        "eval \"$(conda shell.bash hook)\"\n",
        "conda activate lsd-env\n",
        "cd lucid-sonic-dreams\n",
        "python run-lucidsonicdreams.py"
      ],
      "metadata": {
        "id": "06Ht-ND4J8ae"
      },
      "execution_count": null,
      "outputs": []
    }
  ]
}